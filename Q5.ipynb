{
 "cells": [
  {
   "cell_type": "markdown",
   "metadata": {},
   "source": [
    "Bidirectional RNN for Named Entity Recognition (NER)\n",
    "\n",
    "This notebook demonstrates how to implement a Bidirectional Recurrent Neural Network (RNN)\n",
    "using PyTorch for Named Entity Recognition (NER) on a simplified dataset.\n",
    "\n",
    "It covers:\n",
    "- Creating a simple synthetic NER dataset.\n",
    "- Using word embeddings (demonstrated with a basic embedding layer).\n",
    "- Implementing a Bidirectional LSTM in PyTorch.\n",
    "- Handling variable-length sequences with padding and masking.\n",
    "- Evaluating on precision, recall, and F1-score (for a single entity type)."
   ]
  },
  {
   "cell_type": "markdown",
   "metadata": {},
   "source": [
    "## Libraries"
   ]
  },
  {
   "cell_type": "code",
   "execution_count": 3,
   "metadata": {},
   "outputs": [],
   "source": [
    "import torch\n",
    "import torch.nn as nn\n",
    "import torch.optim as optim\n",
    "from torch.nn.utils.rnn import pad_sequence\n",
    "from sklearn.model_selection import train_test_split\n",
    "from sklearn.metrics import classification_report"
   ]
  },
  {
   "cell_type": "markdown",
   "metadata": {},
   "source": [
    "## 1. Data Preparation (Simplified Synthetic Data)"
   ]
  },
  {
   "cell_type": "code",
   "execution_count": 4,
   "metadata": {},
   "outputs": [
    {
     "name": "stdout",
     "output_type": "stream",
     "text": [
      "Vocabulary: {'.': 1, 'california': 2, 'eiffel': 3, 'founded': 4, 'france': 5, 'google': 6, 'in': 7, 'is': 8, 'john': 9, 'lives': 10, 'mary': 11, 'new': 12, 'paris': 13, 'peter': 14, 'the': 15, 'to': 16, 'tower': 17, 'was': 18, 'went': 19, 'with': 20, 'york': 21, '<pad>': 0}\n",
      "Tags: {'LOC': 0, 'O': 1, 'ORG': 2, 'PER': 3}\n"
     ]
    }
   ],
   "source": [
    "# Create a small synthetic dataset for demonstration\n",
    "sentences = [\n",
    "    \"John lives in New York .\",\n",
    "    \"Mary went to Paris with Peter .\",\n",
    "    \"The Eiffel Tower is in France .\",\n",
    "    \"Google was founded in California .\",\n",
    "]\n",
    "labels = [\n",
    "    [\"PER\", \"O\", \"O\", \"LOC\", \"O\"],\n",
    "    [\"PER\", \"O\", \"O\", \"LOC\", \"O\", \"PER\", \"O\"],\n",
    "    [\"O\", \"LOC\", \"O\", \"O\", \"O\", \"LOC\", \"O\"],\n",
    "    [\"ORG\", \"O\", \"O\", \"O\", \"LOC\", \"O\"],\n",
    "]\n",
    "\n",
    "# Create vocabulary and tag mappings\n",
    "words = sorted(list(set([word.lower() for sent in sentences for word in sent.split()])))\n",
    "tags = sorted(list(set([tag for label_list in labels for tag in label_list])))\n",
    "\n",
    "word_to_index = {word: i + 1 for i, word in enumerate(words)} # 0 for padding\n",
    "word_to_index[\"<pad>\"] = 0\n",
    "index_to_word = {i: word for word, i in word_to_index.items()}\n",
    "\n",
    "tag_to_index = {tag: i for i, tag in enumerate(tags)}\n",
    "index_to_tag = {i: tag for tag, i in tag_to_index.items()}\n",
    "\n",
    "vocab_size = len(word_to_index)\n",
    "tagset_size = len(tag_to_index)\n",
    "\n",
    "print(f\"Vocabulary: {word_to_index}\")\n",
    "print(f\"Tags: {tag_to_index}\")\n",
    "\n",
    "# Convert sentences and labels to numerical indices\n",
    "indexed_sentences = [[word_to_index[word.lower()] for word in sent.split()] for sent in sentences]\n",
    "indexed_labels = [[tag_to_index[tag] for tag in label_list] for label_list in labels]\n",
    "\n",
    "# Split data into training and testing sets\n",
    "train_sentences, test_sentences, train_labels, test_labels = train_test_split(\n",
    "    indexed_sentences, indexed_labels, test_size=0.2, random_state=42\n",
    ")"
   ]
  },
  {
   "cell_type": "markdown",
   "metadata": {},
   "source": [
    "## 2. Handling Variable-Length Sequences with Padding"
   ]
  },
  {
   "cell_type": "code",
   "execution_count": 5,
   "metadata": {},
   "outputs": [
    {
     "name": "stdout",
     "output_type": "stream",
     "text": [
      "Padded Training Sentences:\n",
      "tensor([[ 6, 18,  4,  7,  2,  1,  0],\n",
      "        [ 9, 10,  7, 12, 21,  1,  0],\n",
      "        [15,  3, 17,  8,  7,  5,  1]])\n",
      "Padded Training Labels:\n",
      "tensor([[ 2,  1,  1,  1,  0,  1, -1],\n",
      "        [ 3,  1,  1,  0,  1, -1, -1],\n",
      "        [ 1,  0,  1,  1,  1,  0,  1]])\n"
     ]
    }
   ],
   "source": [
    "def pad_sequences(sequences, padding_value=0):\n",
    "    return pad_sequence([torch.tensor(seq) for seq in sequences], batch_first=True, padding_value=padding_value)\n",
    "\n",
    "train_padded_sentences = pad_sequences(train_sentences)\n",
    "train_padded_labels = pad_sequences(train_labels, padding_value=-1) # Use -1 for padding in labels to ignore during loss\n",
    "\n",
    "test_padded_sentences = pad_sequences(test_sentences)\n",
    "test_padded_labels = pad_sequences(test_labels, padding_value=-1)\n",
    "\n",
    "print(\"Padded Training Sentences:\")\n",
    "print(train_padded_sentences)\n",
    "print(\"Padded Training Labels:\")\n",
    "print(train_padded_labels)"
   ]
  },
  {
   "cell_type": "markdown",
   "metadata": {},
   "source": [
    "## 3. Bidirectional LSTM Model"
   ]
  },
  {
   "cell_type": "code",
   "execution_count": 6,
   "metadata": {},
   "outputs": [],
   "source": [
    "class BiLSTM_NER(nn.Module):\n",
    "    def __init__(self, vocab_size, embedding_dim, hidden_dim, num_layers, tagset_size):\n",
    "        super(BiLSTM_NER, self).__init__()\n",
    "        self.embedding = nn.Embedding(vocab_size, embedding_dim, padding_idx=0)\n",
    "        self.lstm = nn.LSTM(embedding_dim, hidden_dim, num_layers, bidirectional=True, batch_first=True)\n",
    "        self.fc = nn.Linear(hidden_dim * 2, tagset_size) # *2 for bidirectional\n",
    "\n",
    "    def forward(self, x, lengths):\n",
    "        embedded = self.embedding(x)\n",
    "        packed_embedded = nn.utils.rnn.pack_padded_sequence(embedded, lengths, batch_first=True, enforce_sorted=False)\n",
    "        packed_output, _ = self.lstm(packed_embedded)\n",
    "        output, _ = nn.utils.rnn.pad_packed_sequence(packed_output, batch_first=True)\n",
    "        logits = self.fc(output)\n",
    "        return logits\n",
    "\n",
    "# Hyperparameters\n",
    "embedding_dim = 100\n",
    "hidden_dim = 128\n",
    "num_layers = 1\n",
    "learning_rate = 0.01\n",
    "num_epochs = 10\n",
    "device = torch.device(\"cuda\" if torch.cuda.is_available() else \"cpu\")\n",
    "\n",
    "model = BiLSTM_NER(vocab_size, embedding_dim, hidden_dim, num_layers, tagset_size).to(device)\n",
    "optimizer = optim.Adam(model.parameters(), lr=learning_rate)\n",
    "loss_function = nn.CrossEntropyLoss(ignore_index=-1) # Ignore padding in labels"
   ]
  },
  {
   "cell_type": "markdown",
   "metadata": {},
   "source": [
    "## 4. Training the Model"
   ]
  },
  {
   "cell_type": "code",
   "execution_count": 7,
   "metadata": {},
   "outputs": [
    {
     "name": "stdout",
     "output_type": "stream",
     "text": [
      "Epoch: 1, Train Loss: 1.2778\n",
      "Epoch: 2, Train Loss: 0.4356\n",
      "Epoch: 3, Train Loss: 0.1139\n",
      "Epoch: 4, Train Loss: 0.0220\n",
      "Epoch: 5, Train Loss: 0.0042\n",
      "Epoch: 6, Train Loss: 0.0011\n",
      "Epoch: 7, Train Loss: 0.0004\n",
      "Epoch: 8, Train Loss: 0.0002\n",
      "Epoch: 9, Train Loss: 0.0001\n",
      "Epoch: 10, Train Loss: 0.0001\n"
     ]
    }
   ],
   "source": [
    "def train(model, iterator, optimizer, loss_function, device):\n",
    "    model.train()\n",
    "    epoch_loss = 0\n",
    "\n",
    "    for batch_idx, (padded_sentences, padded_labels) in enumerate(iterator):\n",
    "        padded_sentences = padded_sentences.to(device)\n",
    "        padded_labels = padded_labels.to(device)\n",
    "\n",
    "        # Get lengths of original sequences (before padding)\n",
    "        lengths = torch.tensor([len(seq) for seq in iterator.dataset.sentences[batch_idx * iterator.batch_size : (batch_idx + 1) * iterator.batch_size]])\n",
    "        lengths = lengths.to(device)\n",
    "\n",
    "        optimizer.zero_grad()\n",
    "        predictions = model(padded_sentences, lengths)\n",
    "\n",
    "        # Reshape predictions and labels for loss calculation\n",
    "        predictions = predictions.view(-1, predictions.shape[-1])\n",
    "        labels = padded_labels.view(-1)\n",
    "\n",
    "        loss = loss_function(predictions, labels)\n",
    "        loss.backward()\n",
    "        optimizer.step()\n",
    "\n",
    "        epoch_loss += loss.item()\n",
    "\n",
    "    return epoch_loss / len(iterator)\n",
    "\n",
    "# Create data loaders (simple iteration for this example)\n",
    "train_data = list(zip(train_padded_sentences, train_padded_labels))\n",
    "test_data = list(zip(test_padded_sentences, test_padded_labels))\n",
    "\n",
    "class SimpleDataset:\n",
    "    def __init__(self, sentences, labels):\n",
    "        self.sentences = sentences\n",
    "        self.labels = labels\n",
    "\n",
    "    def __len__(self):\n",
    "        return len(self.sentences)\n",
    "\n",
    "    def __getitem__(self, idx):\n",
    "        return self.sentences[idx], self.labels[idx]\n",
    "\n",
    "train_dataset = SimpleDataset(train_padded_sentences, train_padded_labels)\n",
    "test_dataset = SimpleDataset(test_padded_sentences, test_padded_labels)\n",
    "\n",
    "batch_size = 2 # Adjust as needed\n",
    "train_loader = torch.utils.data.DataLoader(train_dataset, batch_size=batch_size)\n",
    "test_loader = torch.utils.data.DataLoader(test_dataset, batch_size=batch_size)\n",
    "\n",
    "for epoch in range(num_epochs):\n",
    "    train_loss = train(model, train_loader, optimizer, loss_function, device)\n",
    "    print(f\"Epoch: {epoch+1}, Train Loss: {train_loss:.4f}\")"
   ]
  },
  {
   "cell_type": "markdown",
   "metadata": {},
   "source": [
    "## 5. Evaluation"
   ]
  },
  {
   "cell_type": "code",
   "execution_count": 8,
   "metadata": {},
   "outputs": [
    {
     "name": "stdout",
     "output_type": "stream",
     "text": [
      "\n",
      "Evaluation Report:\n",
      "              precision    recall  f1-score   support\n",
      "\n",
      "         LOC       0.50      1.00      0.67         1\n",
      "           O       0.80      1.00      0.89         4\n",
      "         PER       0.00      0.00      0.00         2\n",
      "\n",
      "    accuracy                           0.71         7\n",
      "   macro avg       0.43      0.67      0.52         7\n",
      "weighted avg       0.53      0.71      0.60         7\n",
      "\n"
     ]
    },
    {
     "name": "stderr",
     "output_type": "stream",
     "text": [
      "c:\\Users\\yugal\\OneDrive\\Desktop\\Homework\\.venv\\Lib\\site-packages\\sklearn\\metrics\\_classification.py:1565: UndefinedMetricWarning: Precision is ill-defined and being set to 0.0 in labels with no predicted samples. Use `zero_division` parameter to control this behavior.\n",
      "  _warn_prf(average, modifier, f\"{metric.capitalize()} is\", len(result))\n",
      "c:\\Users\\yugal\\OneDrive\\Desktop\\Homework\\.venv\\Lib\\site-packages\\sklearn\\metrics\\_classification.py:1565: UndefinedMetricWarning: Precision is ill-defined and being set to 0.0 in labels with no predicted samples. Use `zero_division` parameter to control this behavior.\n",
      "  _warn_prf(average, modifier, f\"{metric.capitalize()} is\", len(result))\n",
      "c:\\Users\\yugal\\OneDrive\\Desktop\\Homework\\.venv\\Lib\\site-packages\\sklearn\\metrics\\_classification.py:1565: UndefinedMetricWarning: Precision is ill-defined and being set to 0.0 in labels with no predicted samples. Use `zero_division` parameter to control this behavior.\n",
      "  _warn_prf(average, modifier, f\"{metric.capitalize()} is\", len(result))\n"
     ]
    }
   ],
   "source": [
    "def evaluate(model, iterator, device, index_to_tag):\n",
    "    model.eval()\n",
    "    all_predictions = []\n",
    "    all_labels = []\n",
    "\n",
    "    with torch.no_grad():\n",
    "        for batch_idx, (padded_sentences, padded_labels) in enumerate(iterator):\n",
    "            padded_sentences = padded_sentences.to(device)\n",
    "            padded_labels = padded_labels.to(device)\n",
    "\n",
    "            lengths = torch.tensor([len(seq) for seq in iterator.dataset.sentences[batch_idx * iterator.batch_size : (batch_idx + 1) * iterator.batch_size]])\n",
    "            lengths = lengths.to(device)\n",
    "\n",
    "            predictions = model(padded_sentences, lengths)\n",
    "            _, predicted_indices = torch.max(predictions, dim=2)\n",
    "\n",
    "            # Convert indices to tags, ignoring padding (-1)\n",
    "            for i in range(padded_labels.shape[0]):\n",
    "                true_tags = [index_to_tag[idx.item()] for idx in padded_labels[i] if idx.item() != -1]\n",
    "                pred_tags = [index_to_tag[idx.item()] for idx in predicted_indices[i][:len(true_tags)]] # Truncate predictions to true length\n",
    "\n",
    "                all_labels.extend(true_tags)\n",
    "                all_predictions.extend(pred_tags)\n",
    "\n",
    "    # Evaluate using classification report (for a single entity type, e.g., 'PER')\n",
    "    print(\"\\nEvaluation Report:\")\n",
    "    print(classification_report(all_labels, all_predictions))\n",
    "\n",
    "evaluate(model, test_loader, device, index_to_tag)"
   ]
  }
 ],
 "metadata": {
  "kernelspec": {
   "display_name": ".venv",
   "language": "python",
   "name": "python3"
  },
  "language_info": {
   "codemirror_mode": {
    "name": "ipython",
    "version": 3
   },
   "file_extension": ".py",
   "mimetype": "text/x-python",
   "name": "python",
   "nbconvert_exporter": "python",
   "pygments_lexer": "ipython3",
   "version": "3.12.8"
  }
 },
 "nbformat": 4,
 "nbformat_minor": 2
}
